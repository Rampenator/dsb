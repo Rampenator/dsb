{
 "cells": [
  {
   "cell_type": "code",
   "execution_count": 1,
   "id": "67d5e971-20c9-4485-a9fc-52aaa110f916",
   "metadata": {
    "tags": []
   },
   "outputs": [
    {
     "name": "stdout",
     "output_type": "stream",
     "text": [
      "moi\n"
     ]
    }
   ],
   "source": [
    "print(\"moi\")"
   ]
  },
  {
   "cell_type": "code",
   "execution_count": null,
   "id": "28006a58-1921-48ca-af05-8389c95f9e37",
   "metadata": {},
   "outputs": [],
   "source": []
  }
 ],
 "metadata": {
  "kernelspec": {
   "display_name": "Python 3",
   "language": "python",
   "name": "python3"
  },
  "language_info": {
   "codemirror_mode": {
    "name": "ipython",
    "version": 3
   },
   "file_extension": ".py",
   "mimetype": "text/x-python",
   "name": "python",
   "nbconvert_exporter": "python",
   "pygments_lexer": "ipython3",
   "version": "3.10.8"
  }
 },
 "nbformat": 4,
 "nbformat_minor": 5
}
