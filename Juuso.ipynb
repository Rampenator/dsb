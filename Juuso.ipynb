{
 "cells": [
  {
   "cell_type": "markdown",
   "id": "4fb04915-839c-40af-9abc-d4114df9a509",
   "metadata": {},
   "source": [
    "*Data Science for Business 1*"
   ]
  },
  {
   "cell_type": "markdown",
   "id": "27624e97-6aeb-4db4-9fd0-4c0e439ec205",
   "metadata": {
    "tags": []
   },
   "source": [
    "# Group Project: Loan approval model"
   ]
  },
  {
   "cell_type": "markdown",
   "id": "e25c4afa-c7d2-4530-99bd-6eb4b783e737",
   "metadata": {
    "tags": []
   },
   "source": [
    "## Import libraries"
   ]
  },
  {
   "cell_type": "code",
   "execution_count": 1,
   "id": "67d5e971-20c9-4485-a9fc-52aaa110f916",
   "metadata": {
    "tags": []
   },
   "outputs": [],
   "source": [
    "import pandas as pd\n",
    "import numpy as np\n",
    "import itertools\n",
    "\n",
    "#Libraries for visualization\n",
    "import matplotlib.pyplot as plt\n",
    "import seaborn as sns\n",
    "import pydotplus\n",
    "from IPython.display import Image\n",
    "\n",
    "#Library for building machine learning models\n",
    "from sklearn.linear_model import LogisticRegression\n",
    "from sklearn.model_selection import train_test_split\n",
    "from sklearn.tree import DecisionTreeClassifier\n",
    "from sklearn.linear_model import LogisticRegression\n",
    "from sklearn import tree\n",
    "from sklearn.metrics import roc_curve, auc\n",
    "from sklearn.metrics import RocCurveDisplay\n",
    "from sklearn.metrics import classification_report, accuracy_score\n",
    "from sklearn.metrics import confusion_matrix, ConfusionMatrixDisplay\n",
    "from mlxtend.feature_selection import SequentialFeatureSelector as SFS\n",
    "from mlxtend.plotting import plot_sequential_feature_selection as plot_sfs\n",
    "\n",
    "from sklearn.model_selection import cross_val_score, train_test_split\n",
    "from sklearn.metrics import mean_squared_error, mean_absolute_percentage_error\n",
    "from mlxtend.feature_selection import SequentialFeatureSelector as SFS\n",
    "from mlxtend.plotting import plot_sequential_feature_selection\n",
    "import optuna\n",
    "from optuna.integration import OptunaSearchCV\n",
    "from xgboost import XGBClassifier\n",
    "\n",
    "from sklearn.svm import SVC\n",
    "from sklearn.metrics import accuracy_score, ConfusionMatrixDisplay, RocCurveDisplay\n",
    "from sklearn.model_selection import train_test_split, cross_val_score, GridSearchCV, RandomizedSearchCV\n",
    "\n",
    "import matplotlib.pyplot as plt\n",
    "\n",
    "from scipy.stats import loguniform, expon\n",
    "from skopt import BayesSearchCV\n",
    "from skopt.space import Real, Categorical, Integer\n",
    "from sklearn.preprocessing import StandardScaler, MinMaxScaler\n",
    "from sklearn.preprocessing import StandardScaler, MinMaxScaler\n",
    "from sklearn.model_selection import train_test_split, cross_val_score\n",
    "from sklearn.metrics import accuracy_score\n",
    "\n",
    "from sklearn.neighbors import KNeighborsClassifier\n",
    "from sklearn.linear_model import LogisticRegression\n",
    "from sklearn.tree import DecisionTreeClassifier\n",
    "from sklearn.ensemble import RandomForestClassifier\n",
    "from sklearn.svm import SVC\n",
    "from sklearn.neural_network import MLPClassifier\n",
    "\n",
    "from imblearn.over_sampling import SMOTE\n",
    "from sklearn.model_selection import RandomizedSearchCV"
   ]
  },
  {
   "cell_type": "markdown",
   "id": "3dbca750-9be4-4532-b31f-e6e7bc456c1a",
   "metadata": {
    "tags": []
   },
   "source": [
    "## Import data"
   ]
  },
  {
   "cell_type": "code",
   "execution_count": 2,
   "id": "28006a58-1921-48ca-af05-8389c95f9e37",
   "metadata": {
    "tags": []
   },
   "outputs": [
    {
     "data": {
      "text/html": [
       "<div>\n",
       "<style scoped>\n",
       "    .dataframe tbody tr th:only-of-type {\n",
       "        vertical-align: middle;\n",
       "    }\n",
       "\n",
       "    .dataframe tbody tr th {\n",
       "        vertical-align: top;\n",
       "    }\n",
       "\n",
       "    .dataframe thead th {\n",
       "        text-align: right;\n",
       "    }\n",
       "</style>\n",
       "<table border=\"1\" class=\"dataframe\">\n",
       "  <thead>\n",
       "    <tr style=\"text-align: right;\">\n",
       "      <th></th>\n",
       "      <th>loan_id</th>\n",
       "      <th>no_of_dependents</th>\n",
       "      <th>education</th>\n",
       "      <th>self_employed</th>\n",
       "      <th>income_annum</th>\n",
       "      <th>loan_amount</th>\n",
       "      <th>loan_term</th>\n",
       "      <th>cibil_score</th>\n",
       "      <th>residential_assets_value</th>\n",
       "      <th>commercial_assets_value</th>\n",
       "      <th>luxury_assets_value</th>\n",
       "      <th>bank_asset_value</th>\n",
       "      <th>loan_status</th>\n",
       "    </tr>\n",
       "  </thead>\n",
       "  <tbody>\n",
       "    <tr>\n",
       "      <th>0</th>\n",
       "      <td>1</td>\n",
       "      <td>2</td>\n",
       "      <td>Graduate</td>\n",
       "      <td>No</td>\n",
       "      <td>9600000</td>\n",
       "      <td>29900000</td>\n",
       "      <td>12</td>\n",
       "      <td>778</td>\n",
       "      <td>2400000</td>\n",
       "      <td>17600000</td>\n",
       "      <td>22700000</td>\n",
       "      <td>8000000</td>\n",
       "      <td>Approved</td>\n",
       "    </tr>\n",
       "    <tr>\n",
       "      <th>1</th>\n",
       "      <td>2</td>\n",
       "      <td>0</td>\n",
       "      <td>Not Graduate</td>\n",
       "      <td>Yes</td>\n",
       "      <td>4100000</td>\n",
       "      <td>12200000</td>\n",
       "      <td>8</td>\n",
       "      <td>417</td>\n",
       "      <td>2700000</td>\n",
       "      <td>2200000</td>\n",
       "      <td>8800000</td>\n",
       "      <td>3300000</td>\n",
       "      <td>Rejected</td>\n",
       "    </tr>\n",
       "    <tr>\n",
       "      <th>2</th>\n",
       "      <td>3</td>\n",
       "      <td>3</td>\n",
       "      <td>Graduate</td>\n",
       "      <td>No</td>\n",
       "      <td>9100000</td>\n",
       "      <td>29700000</td>\n",
       "      <td>20</td>\n",
       "      <td>506</td>\n",
       "      <td>7100000</td>\n",
       "      <td>4500000</td>\n",
       "      <td>33300000</td>\n",
       "      <td>12800000</td>\n",
       "      <td>Rejected</td>\n",
       "    </tr>\n",
       "    <tr>\n",
       "      <th>3</th>\n",
       "      <td>4</td>\n",
       "      <td>3</td>\n",
       "      <td>Graduate</td>\n",
       "      <td>No</td>\n",
       "      <td>8200000</td>\n",
       "      <td>30700000</td>\n",
       "      <td>8</td>\n",
       "      <td>467</td>\n",
       "      <td>18200000</td>\n",
       "      <td>3300000</td>\n",
       "      <td>23300000</td>\n",
       "      <td>7900000</td>\n",
       "      <td>Rejected</td>\n",
       "    </tr>\n",
       "    <tr>\n",
       "      <th>4</th>\n",
       "      <td>5</td>\n",
       "      <td>5</td>\n",
       "      <td>Not Graduate</td>\n",
       "      <td>Yes</td>\n",
       "      <td>9800000</td>\n",
       "      <td>24200000</td>\n",
       "      <td>20</td>\n",
       "      <td>382</td>\n",
       "      <td>12400000</td>\n",
       "      <td>8200000</td>\n",
       "      <td>29400000</td>\n",
       "      <td>5000000</td>\n",
       "      <td>Rejected</td>\n",
       "    </tr>\n",
       "  </tbody>\n",
       "</table>\n",
       "</div>"
      ],
      "text/plain": [
       "   loan_id   no_of_dependents      education  self_employed   income_annum  \\\n",
       "0        1                  2       Graduate             No        9600000   \n",
       "1        2                  0   Not Graduate            Yes        4100000   \n",
       "2        3                  3       Graduate             No        9100000   \n",
       "3        4                  3       Graduate             No        8200000   \n",
       "4        5                  5   Not Graduate            Yes        9800000   \n",
       "\n",
       "    loan_amount   loan_term   cibil_score   residential_assets_value  \\\n",
       "0      29900000          12           778                    2400000   \n",
       "1      12200000           8           417                    2700000   \n",
       "2      29700000          20           506                    7100000   \n",
       "3      30700000           8           467                   18200000   \n",
       "4      24200000          20           382                   12400000   \n",
       "\n",
       "    commercial_assets_value   luxury_assets_value   bank_asset_value  \\\n",
       "0                  17600000              22700000            8000000   \n",
       "1                   2200000               8800000            3300000   \n",
       "2                   4500000              33300000           12800000   \n",
       "3                   3300000              23300000            7900000   \n",
       "4                   8200000              29400000            5000000   \n",
       "\n",
       "   loan_status  \n",
       "0     Approved  \n",
       "1     Rejected  \n",
       "2     Rejected  \n",
       "3     Rejected  \n",
       "4     Rejected  "
      ]
     },
     "execution_count": 2,
     "metadata": {},
     "output_type": "execute_result"
    }
   ],
   "source": [
    "loans = pd.read_csv(\"loan_approval_dataset.csv\")\n",
    "loans.head()"
   ]
  },
  {
   "cell_type": "markdown",
   "id": "0a12ba88-0d9c-4ac7-a850-22e7311a4100",
   "metadata": {
    "tags": []
   },
   "source": [
    "## Data exploration and summary statistics"
   ]
  },
  {
   "cell_type": "code",
   "execution_count": 3,
   "id": "b6f8f369-428d-43e5-b24f-2c083ce4d5c7",
   "metadata": {
    "tags": []
   },
   "outputs": [
    {
     "data": {
      "text/plain": [
       "(4269, 13)"
      ]
     },
     "execution_count": 3,
     "metadata": {},
     "output_type": "execute_result"
    }
   ],
   "source": [
    "loans.shape"
   ]
  },
  {
   "cell_type": "markdown",
   "id": "df499942-caa5-429a-b3a7-443fe2c0da4c",
   "metadata": {},
   "source": [
    "The dataset has 4269 rows and 13 columns."
   ]
  },
  {
   "cell_type": "code",
   "execution_count": 4,
   "id": "f46383b0-58b8-4def-8763-dc1530e693ba",
   "metadata": {
    "tags": []
   },
   "outputs": [
    {
     "name": "stdout",
     "output_type": "stream",
     "text": [
      "<class 'pandas.core.frame.DataFrame'>\n",
      "RangeIndex: 4269 entries, 0 to 4268\n",
      "Data columns (total 13 columns):\n",
      " #   Column                     Non-Null Count  Dtype \n",
      "---  ------                     --------------  ----- \n",
      " 0   loan_id                    4269 non-null   int64 \n",
      " 1    no_of_dependents          4269 non-null   int64 \n",
      " 2    education                 4269 non-null   object\n",
      " 3    self_employed             4269 non-null   object\n",
      " 4    income_annum              4269 non-null   int64 \n",
      " 5    loan_amount               4269 non-null   int64 \n",
      " 6    loan_term                 4269 non-null   int64 \n",
      " 7    cibil_score               4269 non-null   int64 \n",
      " 8    residential_assets_value  4269 non-null   int64 \n",
      " 9    commercial_assets_value   4269 non-null   int64 \n",
      " 10   luxury_assets_value       4269 non-null   int64 \n",
      " 11   bank_asset_value          4269 non-null   int64 \n",
      " 12   loan_status               4269 non-null   object\n",
      "dtypes: int64(10), object(3)\n",
      "memory usage: 433.7+ KB\n"
     ]
    }
   ],
   "source": [
    "loans.info()"
   ]
  },
  {
   "cell_type": "markdown",
   "id": "a0901d13-78fa-48a7-8b71-bbdeb3eeadc2",
   "metadata": {},
   "source": [
    "There are no missing values. The most of the columns are integer Dtype but there are three columns with Dtype object."
   ]
  },
  {
   "cell_type": "code",
   "execution_count": 5,
   "id": "b7c61af7-0c88-4a5d-b561-3935a30be9a0",
   "metadata": {
    "tags": []
   },
   "outputs": [
    {
     "data": {
      "text/html": [
       "<div>\n",
       "<style scoped>\n",
       "    .dataframe tbody tr th:only-of-type {\n",
       "        vertical-align: middle;\n",
       "    }\n",
       "\n",
       "    .dataframe tbody tr th {\n",
       "        vertical-align: top;\n",
       "    }\n",
       "\n",
       "    .dataframe thead th {\n",
       "        text-align: right;\n",
       "    }\n",
       "</style>\n",
       "<table border=\"1\" class=\"dataframe\">\n",
       "  <thead>\n",
       "    <tr style=\"text-align: right;\">\n",
       "      <th></th>\n",
       "      <th>loan_id</th>\n",
       "      <th>no_of_dependents</th>\n",
       "      <th>income_annum</th>\n",
       "      <th>loan_amount</th>\n",
       "      <th>loan_term</th>\n",
       "      <th>cibil_score</th>\n",
       "      <th>residential_assets_value</th>\n",
       "      <th>commercial_assets_value</th>\n",
       "      <th>luxury_assets_value</th>\n",
       "      <th>bank_asset_value</th>\n",
       "    </tr>\n",
       "  </thead>\n",
       "  <tbody>\n",
       "    <tr>\n",
       "      <th>count</th>\n",
       "      <td>4269.0</td>\n",
       "      <td>4269.0</td>\n",
       "      <td>4269.0</td>\n",
       "      <td>4269.0</td>\n",
       "      <td>4269.0</td>\n",
       "      <td>4269.0</td>\n",
       "      <td>4269.0</td>\n",
       "      <td>4269.0</td>\n",
       "      <td>4269.0</td>\n",
       "      <td>4269.0</td>\n",
       "    </tr>\n",
       "    <tr>\n",
       "      <th>mean</th>\n",
       "      <td>2135.0</td>\n",
       "      <td>2.0</td>\n",
       "      <td>5059124.0</td>\n",
       "      <td>15133450.0</td>\n",
       "      <td>11.0</td>\n",
       "      <td>600.0</td>\n",
       "      <td>7472617.0</td>\n",
       "      <td>4973155.0</td>\n",
       "      <td>15126306.0</td>\n",
       "      <td>4976692.0</td>\n",
       "    </tr>\n",
       "    <tr>\n",
       "      <th>std</th>\n",
       "      <td>1232.0</td>\n",
       "      <td>2.0</td>\n",
       "      <td>2806840.0</td>\n",
       "      <td>9043363.0</td>\n",
       "      <td>6.0</td>\n",
       "      <td>172.0</td>\n",
       "      <td>6503637.0</td>\n",
       "      <td>4388966.0</td>\n",
       "      <td>9103754.0</td>\n",
       "      <td>3250185.0</td>\n",
       "    </tr>\n",
       "    <tr>\n",
       "      <th>min</th>\n",
       "      <td>1.0</td>\n",
       "      <td>0.0</td>\n",
       "      <td>200000.0</td>\n",
       "      <td>300000.0</td>\n",
       "      <td>2.0</td>\n",
       "      <td>300.0</td>\n",
       "      <td>-100000.0</td>\n",
       "      <td>0.0</td>\n",
       "      <td>300000.0</td>\n",
       "      <td>0.0</td>\n",
       "    </tr>\n",
       "    <tr>\n",
       "      <th>25%</th>\n",
       "      <td>1068.0</td>\n",
       "      <td>1.0</td>\n",
       "      <td>2700000.0</td>\n",
       "      <td>7700000.0</td>\n",
       "      <td>6.0</td>\n",
       "      <td>453.0</td>\n",
       "      <td>2200000.0</td>\n",
       "      <td>1300000.0</td>\n",
       "      <td>7500000.0</td>\n",
       "      <td>2300000.0</td>\n",
       "    </tr>\n",
       "    <tr>\n",
       "      <th>50%</th>\n",
       "      <td>2135.0</td>\n",
       "      <td>3.0</td>\n",
       "      <td>5100000.0</td>\n",
       "      <td>14500000.0</td>\n",
       "      <td>10.0</td>\n",
       "      <td>600.0</td>\n",
       "      <td>5600000.0</td>\n",
       "      <td>3700000.0</td>\n",
       "      <td>14600000.0</td>\n",
       "      <td>4600000.0</td>\n",
       "    </tr>\n",
       "    <tr>\n",
       "      <th>75%</th>\n",
       "      <td>3202.0</td>\n",
       "      <td>4.0</td>\n",
       "      <td>7500000.0</td>\n",
       "      <td>21500000.0</td>\n",
       "      <td>16.0</td>\n",
       "      <td>748.0</td>\n",
       "      <td>11300000.0</td>\n",
       "      <td>7600000.0</td>\n",
       "      <td>21700000.0</td>\n",
       "      <td>7100000.0</td>\n",
       "    </tr>\n",
       "    <tr>\n",
       "      <th>max</th>\n",
       "      <td>4269.0</td>\n",
       "      <td>5.0</td>\n",
       "      <td>9900000.0</td>\n",
       "      <td>39500000.0</td>\n",
       "      <td>20.0</td>\n",
       "      <td>900.0</td>\n",
       "      <td>29100000.0</td>\n",
       "      <td>19400000.0</td>\n",
       "      <td>39200000.0</td>\n",
       "      <td>14700000.0</td>\n",
       "    </tr>\n",
       "  </tbody>\n",
       "</table>\n",
       "</div>"
      ],
      "text/plain": [
       "       loan_id   no_of_dependents   income_annum   loan_amount   loan_term  \\\n",
       "count   4269.0             4269.0         4269.0        4269.0      4269.0   \n",
       "mean    2135.0                2.0      5059124.0    15133450.0        11.0   \n",
       "std     1232.0                2.0      2806840.0     9043363.0         6.0   \n",
       "min        1.0                0.0       200000.0      300000.0         2.0   \n",
       "25%     1068.0                1.0      2700000.0     7700000.0         6.0   \n",
       "50%     2135.0                3.0      5100000.0    14500000.0        10.0   \n",
       "75%     3202.0                4.0      7500000.0    21500000.0        16.0   \n",
       "max     4269.0                5.0      9900000.0    39500000.0        20.0   \n",
       "\n",
       "        cibil_score   residential_assets_value   commercial_assets_value  \\\n",
       "count        4269.0                     4269.0                    4269.0   \n",
       "mean          600.0                  7472617.0                 4973155.0   \n",
       "std           172.0                  6503637.0                 4388966.0   \n",
       "min           300.0                  -100000.0                       0.0   \n",
       "25%           453.0                  2200000.0                 1300000.0   \n",
       "50%           600.0                  5600000.0                 3700000.0   \n",
       "75%           748.0                 11300000.0                 7600000.0   \n",
       "max           900.0                 29100000.0                19400000.0   \n",
       "\n",
       "        luxury_assets_value   bank_asset_value  \n",
       "count                4269.0             4269.0  \n",
       "mean             15126306.0          4976692.0  \n",
       "std               9103754.0          3250185.0  \n",
       "min                300000.0                0.0  \n",
       "25%               7500000.0          2300000.0  \n",
       "50%              14600000.0          4600000.0  \n",
       "75%              21700000.0          7100000.0  \n",
       "max              39200000.0         14700000.0  "
      ]
     },
     "execution_count": 5,
     "metadata": {},
     "output_type": "execute_result"
    }
   ],
   "source": [
    "loans.describe().round()"
   ]
  },
  {
   "cell_type": "code",
   "execution_count": 6,
   "id": "b0492373-e4a2-4312-8128-a5fb611809f5",
   "metadata": {
    "tags": []
   },
   "outputs": [
    {
     "data": {
      "text/html": [
       "<div>\n",
       "<style scoped>\n",
       "    .dataframe tbody tr th:only-of-type {\n",
       "        vertical-align: middle;\n",
       "    }\n",
       "\n",
       "    .dataframe tbody tr th {\n",
       "        vertical-align: top;\n",
       "    }\n",
       "\n",
       "    .dataframe thead th {\n",
       "        text-align: right;\n",
       "    }\n",
       "</style>\n",
       "<table border=\"1\" class=\"dataframe\">\n",
       "  <thead>\n",
       "    <tr style=\"text-align: right;\">\n",
       "      <th></th>\n",
       "      <th>education</th>\n",
       "      <th>self_employed</th>\n",
       "      <th>loan_status</th>\n",
       "    </tr>\n",
       "  </thead>\n",
       "  <tbody>\n",
       "    <tr>\n",
       "      <th>0</th>\n",
       "      <td>Graduate</td>\n",
       "      <td>No</td>\n",
       "      <td>Approved</td>\n",
       "    </tr>\n",
       "    <tr>\n",
       "      <th>1</th>\n",
       "      <td>Not Graduate</td>\n",
       "      <td>Yes</td>\n",
       "      <td>Rejected</td>\n",
       "    </tr>\n",
       "    <tr>\n",
       "      <th>2</th>\n",
       "      <td>Graduate</td>\n",
       "      <td>No</td>\n",
       "      <td>Rejected</td>\n",
       "    </tr>\n",
       "    <tr>\n",
       "      <th>3</th>\n",
       "      <td>Graduate</td>\n",
       "      <td>No</td>\n",
       "      <td>Rejected</td>\n",
       "    </tr>\n",
       "    <tr>\n",
       "      <th>4</th>\n",
       "      <td>Not Graduate</td>\n",
       "      <td>Yes</td>\n",
       "      <td>Rejected</td>\n",
       "    </tr>\n",
       "    <tr>\n",
       "      <th>...</th>\n",
       "      <td>...</td>\n",
       "      <td>...</td>\n",
       "      <td>...</td>\n",
       "    </tr>\n",
       "    <tr>\n",
       "      <th>4264</th>\n",
       "      <td>Graduate</td>\n",
       "      <td>Yes</td>\n",
       "      <td>Rejected</td>\n",
       "    </tr>\n",
       "    <tr>\n",
       "      <th>4265</th>\n",
       "      <td>Not Graduate</td>\n",
       "      <td>Yes</td>\n",
       "      <td>Approved</td>\n",
       "    </tr>\n",
       "    <tr>\n",
       "      <th>4266</th>\n",
       "      <td>Not Graduate</td>\n",
       "      <td>No</td>\n",
       "      <td>Rejected</td>\n",
       "    </tr>\n",
       "    <tr>\n",
       "      <th>4267</th>\n",
       "      <td>Not Graduate</td>\n",
       "      <td>No</td>\n",
       "      <td>Approved</td>\n",
       "    </tr>\n",
       "    <tr>\n",
       "      <th>4268</th>\n",
       "      <td>Graduate</td>\n",
       "      <td>No</td>\n",
       "      <td>Approved</td>\n",
       "    </tr>\n",
       "  </tbody>\n",
       "</table>\n",
       "<p>4269 rows × 3 columns</p>\n",
       "</div>"
      ],
      "text/plain": [
       "          education  self_employed  loan_status\n",
       "0          Graduate             No     Approved\n",
       "1      Not Graduate            Yes     Rejected\n",
       "2          Graduate             No     Rejected\n",
       "3          Graduate             No     Rejected\n",
       "4      Not Graduate            Yes     Rejected\n",
       "...             ...            ...          ...\n",
       "4264       Graduate            Yes     Rejected\n",
       "4265   Not Graduate            Yes     Approved\n",
       "4266   Not Graduate             No     Rejected\n",
       "4267   Not Graduate             No     Approved\n",
       "4268       Graduate             No     Approved\n",
       "\n",
       "[4269 rows x 3 columns]"
      ]
     },
     "execution_count": 6,
     "metadata": {},
     "output_type": "execute_result"
    }
   ],
   "source": [
    "loans.select_dtypes(include=\"object\")"
   ]
  },
  {
   "cell_type": "markdown",
   "id": "7e9d9447-b8a5-4176-91d1-c7123d6db2fe",
   "metadata": {
    "tags": []
   },
   "source": [
    "## Data preprocessing"
   ]
  },
  {
   "cell_type": "code",
   "execution_count": 8,
   "id": "0e611808-9949-4062-acb2-f33476d52939",
   "metadata": {
    "tags": []
   },
   "outputs": [
    {
     "ename": "ValueError",
     "evalue": "could not convert string to float: ' Graduate'",
     "output_type": "error",
     "traceback": [
      "\u001b[0;31m---------------------------------------------------------------------------\u001b[0m",
      "\u001b[0;31mValueError\u001b[0m                                Traceback (most recent call last)",
      "Cell \u001b[0;32mIn[8], line 3\u001b[0m\n\u001b[1;32m      1\u001b[0m loans\u001b[38;5;241m.\u001b[39mcolumns \u001b[38;5;241m=\u001b[39m loans\u001b[38;5;241m.\u001b[39mcolumns\u001b[38;5;241m.\u001b[39mstr\u001b[38;5;241m.\u001b[39mstrip()\n\u001b[0;32m----> 3\u001b[0m \u001b[38;5;28mprint\u001b[39m(\u001b[43mloans\u001b[49m\u001b[38;5;241;43m.\u001b[39;49m\u001b[43mcorr\u001b[49m\u001b[43m(\u001b[49m\u001b[43m)\u001b[49m)\n\u001b[1;32m      5\u001b[0m loans\u001b[38;5;241m.\u001b[39mdrop(\u001b[38;5;124m\"\u001b[39m\u001b[38;5;124mloan_id\u001b[39m\u001b[38;5;124m\"\u001b[39m, axis\u001b[38;5;241m=\u001b[39m\u001b[38;5;241m1\u001b[39m, inplace\u001b[38;5;241m=\u001b[39m\u001b[38;5;28;01mTrue\u001b[39;00m)\n\u001b[1;32m      6\u001b[0m loans\u001b[38;5;241m.\u001b[39mdrop(\u001b[38;5;124m\"\u001b[39m\u001b[38;5;124mcibil_score\u001b[39m\u001b[38;5;124m\"\u001b[39m, axis\u001b[38;5;241m=\u001b[39m\u001b[38;5;241m1\u001b[39m, inplace\u001b[38;5;241m=\u001b[39m\u001b[38;5;28;01mTrue\u001b[39;00m) \u001b[38;5;66;03m# Only consider 1st time applicants\u001b[39;00m\n",
      "File \u001b[0;32m/opt/software/lib/python3.10/site-packages/pandas/core/frame.py:10054\u001b[0m, in \u001b[0;36mDataFrame.corr\u001b[0;34m(self, method, min_periods, numeric_only)\u001b[0m\n\u001b[1;32m  10052\u001b[0m cols \u001b[38;5;241m=\u001b[39m data\u001b[38;5;241m.\u001b[39mcolumns\n\u001b[1;32m  10053\u001b[0m idx \u001b[38;5;241m=\u001b[39m cols\u001b[38;5;241m.\u001b[39mcopy()\n\u001b[0;32m> 10054\u001b[0m mat \u001b[38;5;241m=\u001b[39m \u001b[43mdata\u001b[49m\u001b[38;5;241;43m.\u001b[39;49m\u001b[43mto_numpy\u001b[49m\u001b[43m(\u001b[49m\u001b[43mdtype\u001b[49m\u001b[38;5;241;43m=\u001b[39;49m\u001b[38;5;28;43mfloat\u001b[39;49m\u001b[43m,\u001b[49m\u001b[43m \u001b[49m\u001b[43mna_value\u001b[49m\u001b[38;5;241;43m=\u001b[39;49m\u001b[43mnp\u001b[49m\u001b[38;5;241;43m.\u001b[39;49m\u001b[43mnan\u001b[49m\u001b[43m,\u001b[49m\u001b[43m \u001b[49m\u001b[43mcopy\u001b[49m\u001b[38;5;241;43m=\u001b[39;49m\u001b[38;5;28;43;01mFalse\u001b[39;49;00m\u001b[43m)\u001b[49m\n\u001b[1;32m  10056\u001b[0m \u001b[38;5;28;01mif\u001b[39;00m method \u001b[38;5;241m==\u001b[39m \u001b[38;5;124m\"\u001b[39m\u001b[38;5;124mpearson\u001b[39m\u001b[38;5;124m\"\u001b[39m:\n\u001b[1;32m  10057\u001b[0m     correl \u001b[38;5;241m=\u001b[39m libalgos\u001b[38;5;241m.\u001b[39mnancorr(mat, minp\u001b[38;5;241m=\u001b[39mmin_periods)\n",
      "File \u001b[0;32m/opt/software/lib/python3.10/site-packages/pandas/core/frame.py:1838\u001b[0m, in \u001b[0;36mDataFrame.to_numpy\u001b[0;34m(self, dtype, copy, na_value)\u001b[0m\n\u001b[1;32m   1836\u001b[0m \u001b[38;5;28;01mif\u001b[39;00m dtype \u001b[38;5;129;01mis\u001b[39;00m \u001b[38;5;129;01mnot\u001b[39;00m \u001b[38;5;28;01mNone\u001b[39;00m:\n\u001b[1;32m   1837\u001b[0m     dtype \u001b[38;5;241m=\u001b[39m np\u001b[38;5;241m.\u001b[39mdtype(dtype)\n\u001b[0;32m-> 1838\u001b[0m result \u001b[38;5;241m=\u001b[39m \u001b[38;5;28;43mself\u001b[39;49m\u001b[38;5;241;43m.\u001b[39;49m\u001b[43m_mgr\u001b[49m\u001b[38;5;241;43m.\u001b[39;49m\u001b[43mas_array\u001b[49m\u001b[43m(\u001b[49m\u001b[43mdtype\u001b[49m\u001b[38;5;241;43m=\u001b[39;49m\u001b[43mdtype\u001b[49m\u001b[43m,\u001b[49m\u001b[43m \u001b[49m\u001b[43mcopy\u001b[49m\u001b[38;5;241;43m=\u001b[39;49m\u001b[43mcopy\u001b[49m\u001b[43m,\u001b[49m\u001b[43m \u001b[49m\u001b[43mna_value\u001b[49m\u001b[38;5;241;43m=\u001b[39;49m\u001b[43mna_value\u001b[49m\u001b[43m)\u001b[49m\n\u001b[1;32m   1839\u001b[0m \u001b[38;5;28;01mif\u001b[39;00m result\u001b[38;5;241m.\u001b[39mdtype \u001b[38;5;129;01mis\u001b[39;00m \u001b[38;5;129;01mnot\u001b[39;00m dtype:\n\u001b[1;32m   1840\u001b[0m     result \u001b[38;5;241m=\u001b[39m np\u001b[38;5;241m.\u001b[39marray(result, dtype\u001b[38;5;241m=\u001b[39mdtype, copy\u001b[38;5;241m=\u001b[39m\u001b[38;5;28;01mFalse\u001b[39;00m)\n",
      "File \u001b[0;32m/opt/software/lib/python3.10/site-packages/pandas/core/internals/managers.py:1732\u001b[0m, in \u001b[0;36mBlockManager.as_array\u001b[0;34m(self, dtype, copy, na_value)\u001b[0m\n\u001b[1;32m   1730\u001b[0m         arr\u001b[38;5;241m.\u001b[39mflags\u001b[38;5;241m.\u001b[39mwriteable \u001b[38;5;241m=\u001b[39m \u001b[38;5;28;01mFalse\u001b[39;00m\n\u001b[1;32m   1731\u001b[0m \u001b[38;5;28;01melse\u001b[39;00m:\n\u001b[0;32m-> 1732\u001b[0m     arr \u001b[38;5;241m=\u001b[39m \u001b[38;5;28;43mself\u001b[39;49m\u001b[38;5;241;43m.\u001b[39;49m\u001b[43m_interleave\u001b[49m\u001b[43m(\u001b[49m\u001b[43mdtype\u001b[49m\u001b[38;5;241;43m=\u001b[39;49m\u001b[43mdtype\u001b[49m\u001b[43m,\u001b[49m\u001b[43m \u001b[49m\u001b[43mna_value\u001b[49m\u001b[38;5;241;43m=\u001b[39;49m\u001b[43mna_value\u001b[49m\u001b[43m)\u001b[49m\n\u001b[1;32m   1733\u001b[0m     \u001b[38;5;66;03m# The underlying data was copied within _interleave, so no need\u001b[39;00m\n\u001b[1;32m   1734\u001b[0m     \u001b[38;5;66;03m# to further copy if copy=True or setting na_value\u001b[39;00m\n\u001b[1;32m   1736\u001b[0m \u001b[38;5;28;01mif\u001b[39;00m na_value \u001b[38;5;129;01mis\u001b[39;00m \u001b[38;5;129;01mnot\u001b[39;00m lib\u001b[38;5;241m.\u001b[39mno_default:\n",
      "File \u001b[0;32m/opt/software/lib/python3.10/site-packages/pandas/core/internals/managers.py:1794\u001b[0m, in \u001b[0;36mBlockManager._interleave\u001b[0;34m(self, dtype, na_value)\u001b[0m\n\u001b[1;32m   1792\u001b[0m     \u001b[38;5;28;01melse\u001b[39;00m:\n\u001b[1;32m   1793\u001b[0m         arr \u001b[38;5;241m=\u001b[39m blk\u001b[38;5;241m.\u001b[39mget_values(dtype)\n\u001b[0;32m-> 1794\u001b[0m     \u001b[43mresult\u001b[49m\u001b[43m[\u001b[49m\u001b[43mrl\u001b[49m\u001b[38;5;241;43m.\u001b[39;49m\u001b[43mindexer\u001b[49m\u001b[43m]\u001b[49m \u001b[38;5;241m=\u001b[39m arr\n\u001b[1;32m   1795\u001b[0m     itemmask[rl\u001b[38;5;241m.\u001b[39mindexer] \u001b[38;5;241m=\u001b[39m \u001b[38;5;241m1\u001b[39m\n\u001b[1;32m   1797\u001b[0m \u001b[38;5;28;01mif\u001b[39;00m \u001b[38;5;129;01mnot\u001b[39;00m itemmask\u001b[38;5;241m.\u001b[39mall():\n",
      "\u001b[0;31mValueError\u001b[0m: could not convert string to float: ' Graduate'"
     ]
    }
   ],
   "source": [
    "loans.columns = loans.columns.str.strip()\n",
    "\n",
    "print(loans.corr())\n",
    "\n",
    "loans.drop(\"loan_id\", axis=1, inplace=True)\n",
    "loans.drop(\"cibil_score\", axis=1, inplace=True) # Only consider 1st time applicants\n",
    "\n",
    "loans['education'] = loans['education'].str.strip()\n",
    "loans['self_employed'] = loans['self_employed'].str.strip()\n",
    "loans['loan_status'] = loans['loan_status'].str.strip()\n",
    "\n",
    "loans[\"education\"] = loans[\"education\"].replace({\"Graduate\" : 1, \"Not Graduate\" : 0})\n",
    "loans[\"self_employed\"] = loans[\"self_employed\"].replace({\"Yes\" : 1, \"No\" : 0})\n",
    "loans[\"loan_status\"] = loans[\"loan_status\"].replace({\"Approved\" : 1, \"Rejected\" : 0})\n",
    "\n",
    "loans.head()"
   ]
  },
  {
   "cell_type": "markdown",
   "id": "f34b24e8-00f2-4e82-a782-87b4795d0b74",
   "metadata": {
    "tags": []
   },
   "source": [
    "## Checking the target class distribution"
   ]
  },
  {
   "cell_type": "markdown",
   "id": "e6477e3d-0168-4bbb-8d65-db636e982216",
   "metadata": {},
   "source": [
    "From the visualization we can see that the loan is \"Approved\" in 2656 cases so in 62.2% of the cases and \"Rejected\" in 1613 cases so in 37.8%% of the cases. Most of the credit applications in the dataset are approved."
   ]
  },
  {
   "cell_type": "code",
   "execution_count": null,
   "id": "6dd71bba-6388-4ba0-a467-41e1152a6ed9",
   "metadata": {
    "tags": []
   },
   "outputs": [],
   "source": [
    "class_counts=loans[\"loan_status\"].value_counts()\n",
    "print(class_counts)\n",
    "\n",
    "plt.figure(figsize=(8, 4))\n",
    "           \n",
    "plt.subplot(1,2,1)\n",
    "plt.bar([\"Approved\", \"Rejected\"], class_counts, color = [\"royalblue\", \"lightskyblue\"])\n",
    "plt.title(\"Absolute distribution of loan_status\")\n",
    "plt.ylabel(\"Frequency\")\n",
    "plt.text([\"Approved\"], class_counts[0]/2, class_counts[1])\n",
    "plt.text([\"Rejected\"], class_counts[0]/2, class_counts[0])\n",
    "\n",
    "plt.subplot(1,2,2)\n",
    "plt.pie(class_counts, labels=[\"Approved\", \"Rejected\"], autopct=\"%1.1f%%\", colors= [\"royalblue\", \"lightskyblue\"])\n",
    "plt.title(\"Distribution of loan_status\")\n",
    "\n",
    "plt.subplots_adjust(wspace=0.5)\n",
    "plt.show()"
   ]
  },
  {
   "cell_type": "code",
   "execution_count": null,
   "id": "19c25ea3-b26e-4d01-8e05-39a6408c4fee",
   "metadata": {
    "tags": []
   },
   "outputs": [],
   "source": [
    "kuvaajat = [\"income_annum\",\"loan_amount\",\"loan_term\",\"residential_assets_value\",\"commercial_assets_value\",\"luxury_assets_value\",\"bank_asset_value\"]\n",
    "loans[kuvaajat].hist(figsize=(10,8), color=\"royalblue\")\n",
    "plt.tight_layout()"
   ]
  },
  {
   "cell_type": "markdown",
   "id": "c8072e95-d7d6-4bac-bfe2-164d6df6d0fe",
   "metadata": {
    "tags": []
   },
   "source": [
    "## Separating the data to features X and labels y"
   ]
  },
  {
   "cell_type": "code",
   "execution_count": null,
   "id": "5c1b8169-fc96-43fc-8474-650febba7084",
   "metadata": {
    "tags": []
   },
   "outputs": [],
   "source": [
    "X = loans.drop([\"loan_status\"], axis=1)\n",
    "y = loans[\"loan_status\"]"
   ]
  },
  {
   "cell_type": "markdown",
   "id": "210159b3-646b-4ef5-91c7-484988839211",
   "metadata": {
    "tags": []
   },
   "source": [
    "## Train test split"
   ]
  },
  {
   "cell_type": "code",
   "execution_count": null,
   "id": "58f9a680-384c-4dd8-a4fb-528f47536850",
   "metadata": {
    "tags": []
   },
   "outputs": [],
   "source": [
    "# One-hot encode no_of_dependents\n",
    "X_onehot = pd.get_dummies(X, columns=[\"no_of_dependents\"])\n",
    "\n",
    "# Scale features\n",
    "scaler = StandardScaler()\n",
    "X_scaled = scaler.fit_transform(X_onehot)\n",
    "\n",
    "# Split training and testing\n",
    "X_train, X_test, y_train, y_test = train_test_split(X_scaled, y, random_state=1234, test_size=0.3)"
   ]
  },
  {
   "cell_type": "code",
   "execution_count": null,
   "id": "30947f08-d386-4484-88bf-79a093678744",
   "metadata": {
    "tags": []
   },
   "outputs": [],
   "source": [
    "smote = SMOTE(sampling_strategy='minority', random_state=1234)\n",
    "X_train_balanced, y_train_balanced = smote.fit_resample(X_train, y_train) #applied only to training"
   ]
  },
  {
   "cell_type": "code",
   "execution_count": null,
   "id": "0a1f0fc9-04a8-4cf3-a21e-899989994a7d",
   "metadata": {
    "tags": []
   },
   "outputs": [],
   "source": [
    "train_dist = y_train.value_counts() / len(y_train) #normalize absolute count values for plotting\n",
    "test_dist = y_test.value_counts() / len(y_test)\n",
    "loans_dist = loans[\"loan_status\"].value_counts() / len(loans)\n",
    "smote_dist = pd.Series(y_train_balanced).value_counts() / len(pd.Series(y_train_balanced))\n",
    "\n",
    "fig, ax = plt.subplots()\n",
    "\n",
    "ax.barh(['Test','Train','Complete Data', 'Train (SMOTE)'], [ test_dist[0], train_dist[0], loans_dist[0], smote_dist[0]], color='cyan', label='Rejected')\n",
    "ax.barh(['Test','Train','Complete Data', 'Train (SMOTE)'], [ test_dist[1], train_dist[1], loans_dist[1], smote_dist[1]], left=[ test_dist[0], train_dist[0], loans_dist[0], smote_dist[0]], color='lightblue', label='Approved')\n",
    "ax.set_title('Data split visualization')\n",
    "ax.legend(loc='lower left')\n",
    "plt.xlabel('Distribution')\n",
    "plt.ylabel('Partition')\n",
    "\n",
    "#plot bar values\n",
    "for part, a, b in zip([ 'Test', 'Train','Complete Data', 'Train (SMOTE)'], [ test_dist[0], train_dist[0], loans_dist[0], smote_dist[0]], [test_dist[1], train_dist[1], loans_dist[1], smote_dist[1]]):\n",
    "    plt.text(a/2, part, str(np.round(a, 2)))\n",
    "    plt.text(b/2+a, part, str(np.round(b, 2)));"
   ]
  },
  {
   "cell_type": "markdown",
   "id": "bd73c9f2-2691-4fe7-b88a-3a90a22cfd1d",
   "metadata": {
    "tags": []
   },
   "source": [
    "## Imbalanced decision tree"
   ]
  },
  {
   "cell_type": "code",
   "execution_count": null,
   "id": "304dd3bc-9b6e-42c0-990c-0846230cc952",
   "metadata": {
    "tags": []
   },
   "outputs": [],
   "source": [
    "dt = tree.DecisionTreeClassifier(criterion = \"gini\", random_state = 1234, max_depth=5, min_samples_leaf=5).fit(X_train, y_train)"
   ]
  },
  {
   "cell_type": "code",
   "execution_count": null,
   "id": "fc73d1fd-20cd-42ea-9542-191a46b5f070",
   "metadata": {
    "tags": []
   },
   "outputs": [],
   "source": [
    "y_pred = dt.predict(X_test)\n",
    "y_prob = dt.predict_proba(X_test)\n",
    "print (\"TEST Accuracy is: \", (accuracy_score(y_test,y_pred)*100).round(2))"
   ]
  },
  {
   "cell_type": "code",
   "execution_count": null,
   "id": "77f00341-7f78-415b-918a-6005f8f41be8",
   "metadata": {
    "tags": []
   },
   "outputs": [],
   "source": [
    "y_pred_train = dt.predict(X_train)\n",
    "y_prob_train = dt.predict_proba(X_train)\n",
    "print (\"TRAINING Accuracy is: \", (accuracy_score(y_train,dt.predict(X_train))*100).round(2))"
   ]
  },
  {
   "cell_type": "markdown",
   "id": "efb7a10f-a1e8-4db5-a46d-622c9a4ab964",
   "metadata": {},
   "source": [
    "## Balanced decision tree"
   ]
  },
  {
   "cell_type": "code",
   "execution_count": null,
   "id": "d688e20a-0de6-413b-96de-681db3fae9fe",
   "metadata": {
    "tags": []
   },
   "outputs": [],
   "source": [
    "bdt = tree.DecisionTreeClassifier(criterion = 'gini', random_state = 1234, max_depth=5, min_samples_leaf=5).fit(X_train_balanced, y_train_balanced)"
   ]
  },
  {
   "cell_type": "code",
   "execution_count": null,
   "id": "665abe00-21cb-4994-b96f-80af63956010",
   "metadata": {
    "tags": []
   },
   "outputs": [],
   "source": [
    "y_pred_bdt = dt.predict(X_test)\n",
    "y_prob_bdt = dt.predict_proba(X_test)\n",
    "print (\"TEST Accuracy is: \", (accuracy_score(y_test,y_pred_bdt)*100).round(2))"
   ]
  },
  {
   "cell_type": "code",
   "execution_count": null,
   "id": "a468f17e-1d84-42b3-8040-81e7c664fed6",
   "metadata": {
    "tags": []
   },
   "outputs": [],
   "source": [
    "y_pred_bdt_train = bdt.predict(X_train)\n",
    "y_prob_bdt_train = bdt.predict_proba(X_train)\n",
    "print (\"TRAINING Accuracy is: \", (accuracy_score(y_train,bdt.predict(X_train))*100).round(2))"
   ]
  },
  {
   "cell_type": "markdown",
   "id": "0da0207a-f8c2-46cb-930e-38e4337efa2a",
   "metadata": {},
   "source": [
    "## Imbalanced random forest"
   ]
  },
  {
   "cell_type": "code",
   "execution_count": null,
   "id": "5f8a7d94-aa1a-4e0b-90d2-266a30eb8c77",
   "metadata": {
    "tags": []
   },
   "outputs": [],
   "source": [
    "rfc = RandomForestClassifier(random_state = 1234).fit(X_train, y_train)"
   ]
  },
  {
   "cell_type": "code",
   "execution_count": null,
   "id": "c246baef-eb66-4461-927c-f092ae9a2c46",
   "metadata": {
    "tags": []
   },
   "outputs": [],
   "source": [
    "y_pred_rfc = rfc.predict(X_test)\n",
    "y_prob_rfc = rfc.predict_proba(X_test)\n",
    "print (\"TEST Accuracy is: \", (accuracy_score(y_test,y_pred_rfc)*100).round(2))"
   ]
  },
  {
   "cell_type": "code",
   "execution_count": null,
   "id": "0fe7005f-295a-4b88-8d72-401a5fc7c142",
   "metadata": {
    "tags": []
   },
   "outputs": [],
   "source": [
    "y_pred_rfc_train = rfc.predict(X_train)\n",
    "y_prob_rfc_train = rfc.predict_proba(X_train)\n",
    "print (\"TRAINING Accuracy is: \", (accuracy_score(y_train,rfc.predict(X_train))*100).round(2))"
   ]
  },
  {
   "cell_type": "markdown",
   "id": "3adb3ed6-164d-4145-82a5-a4c01006de00",
   "metadata": {
    "tags": []
   },
   "source": [
    "## Balanced random forest"
   ]
  },
  {
   "cell_type": "code",
   "execution_count": null,
   "id": "69896d42-fe35-460d-80ed-700e6e0874c1",
   "metadata": {
    "tags": []
   },
   "outputs": [],
   "source": [
    "brfc = RandomForestClassifier(random_state = 1234).fit(X_train_balanced, y_train_balanced)"
   ]
  },
  {
   "cell_type": "code",
   "execution_count": null,
   "id": "66ab74c9-d53b-46fb-ae83-e2361d726640",
   "metadata": {
    "tags": []
   },
   "outputs": [],
   "source": [
    "y_pred_brfc = brfc.predict(X_test)\n",
    "y_prob_brfc = brfc.predict_proba(X_test)\n",
    "print (\"TEST Accuracy is: \", (accuracy_score(y_test,y_pred_brfc)*100).round(2))"
   ]
  },
  {
   "cell_type": "code",
   "execution_count": null,
   "id": "d9d9c36e-a053-4f96-b59c-a59a673e5d42",
   "metadata": {
    "tags": []
   },
   "outputs": [],
   "source": [
    "y_pred_brfc_train = brfc.predict(X_train)\n",
    "y_prob_brfc_train = brfc.predict_proba(X_train)\n",
    "print (\"TRAINING Accuracy is: \", (accuracy_score(y_train,brfc.predict(X_train))*100).round(2))"
   ]
  },
  {
   "cell_type": "markdown",
   "id": "4f64eec9-153f-42a3-aba0-e861e682fae5",
   "metadata": {},
   "source": [
    "## Confusion matrices"
   ]
  },
  {
   "cell_type": "code",
   "execution_count": null,
   "id": "c86289d6-712a-4405-b0e2-20b505c3ede3",
   "metadata": {
    "tags": []
   },
   "outputs": [],
   "source": [
    "def plot_confusion_matrix(cm, classes,\n",
    "                          normalize=False,\n",
    "                          title='Confusion matrix',\n",
    "                          cmap=plt.cm.Blues):\n",
    "\n",
    "    if normalize:\n",
    "        cm = cm.astype('float') / cm.sum(axis=1)[:, np.newaxis]\n",
    "\n",
    "    plt.imshow(cm, interpolation='nearest', cmap=cmap)\n",
    "    plt.title(title)\n",
    "    plt.colorbar()\n",
    "    tick_marks = np.arange(len(classes))\n",
    "    plt.xticks(tick_marks, classes, rotation=45)\n",
    "    plt.yticks(tick_marks, classes)\n",
    "\n",
    "    fmt = '.2f' if normalize else 'd'\n",
    "    thresh = cm.max() / 2.\n",
    "    for i, j in itertools.product(range(cm.shape[0]), range(cm.shape[1])):\n",
    "        plt.text(j, i, format(cm[i, j], fmt),\n",
    "                 horizontalalignment=\"center\",\n",
    "                 color=\"white\" if cm[i, j] > thresh else \"black\")\n",
    "\n",
    "    plt.tight_layout()\n",
    "    plt.ylim([1.5, -0.5]) #added to fix a bug that causes the matrix to be squished\n",
    "    plt.ylabel('True label')\n",
    "    plt.xlabel('Predicted label')"
   ]
  },
  {
   "cell_type": "code",
   "execution_count": null,
   "id": "8705dc22-d5c4-4e39-80c8-4eee7d9e1d0e",
   "metadata": {
    "tags": []
   },
   "outputs": [],
   "source": [
    "class_names = ['Rejected', 'Approved']\n",
    "dt_matrix_imb = confusion_matrix(y_test, y_pred)\n",
    "dt_matrix_bal = confusion_matrix(y_test, y_pred_bdt)\n",
    "rfc_matrix_imb = confusion_matrix(y_test, y_pred_rfc)\n",
    "rfc_matrix_bal = confusion_matrix(y_test, y_pred_brfc)\n",
    "\n",
    "np.set_printoptions(precision=2)\n",
    "\n",
    "plt.figure(figsize=(20,15))\n",
    "\n",
    "#Plot imbalanced DecisionTree confusion matrix\n",
    "plt.subplot(421)\n",
    "plot_confusion_matrix(dt_matrix_imb, classes=class_names, title='Decision Tree imbalanced data:\\n Confusion matrix without normalization')\n",
    "\n",
    "#Plot imbalanced DecisionTree normalized confusion matrix\n",
    "plt.subplot(422)\n",
    "plot_confusion_matrix(dt_matrix_imb, classes=class_names, normalize=True, title='Decision Tree imbalanced data:\\n Normalized confusion matrix')\n",
    "\n",
    "#Plot balanced DecisionTree confusion matrix\n",
    "plt.subplot(423)\n",
    "plot_confusion_matrix(dt_matrix_bal, classes=class_names, title='Decision Tree balanced data:\\n Confusion matrix without normalization')\n",
    "\n",
    "#Plot balanced DecisionTree normalized confusion matrix\n",
    "plt.subplot(424)\n",
    "plot_confusion_matrix(dt_matrix_bal, classes=class_names, normalize=True, title='Decision Tree balanced data:\\n Normalized confusion matrix')\n",
    "\n",
    "#Plot balanced rf confusion matrix\n",
    "plt.subplot(425)\n",
    "plot_confusion_matrix(rfc_matrix_imb, classes=class_names, title='Random forest imbalanced data:\\n Confusion matrix without normalization')\n",
    "\n",
    "#Plot balanced DecisionTree normalized confusion matrix\n",
    "plt.subplot(426)\n",
    "plot_confusion_matrix(rfc_matrix_imb, classes=class_names, normalize=True, title='Random forest imbalanced data:\\n Normalized confusion matrix')\n",
    "\n",
    "#Plot balanced rf confusion matrix\n",
    "plt.subplot(427)\n",
    "plot_confusion_matrix(rfc_matrix_bal, classes=class_names, title='Random forest balanced data:\\n Confusion matrix without normalization')\n",
    "\n",
    "#Plot balanced DecisionTree normalized confusion matrix\n",
    "plt.subplot(428)\n",
    "plot_confusion_matrix(rfc_matrix_bal, classes=class_names, normalize=True, title='Random forest balanced data:\\n Normalized confusion matrix')\n",
    "\n",
    "plt.show()"
   ]
  },
  {
   "cell_type": "markdown",
   "id": "117057f8-3e95-48b7-b390-2f47259a1acc",
   "metadata": {},
   "source": [
    "## ROC and AUC"
   ]
  },
  {
   "cell_type": "code",
   "execution_count": null,
   "id": "14169a0e-a145-4d11-8268-3e6855931b98",
   "metadata": {
    "tags": []
   },
   "outputs": [],
   "source": [
    "plt.figure(figsize=(12,10))\n",
    "\n",
    "for test, pred, name in zip([y_test, y_test, y_test, y_test], [y_prob[:,1], y_prob_bdt[:,1], y_prob_rfc[:,1], y_prob_brfc[:,1]], ['Imbalanced Decision Tree', 'Balanced Decision Tree', 'Imbalanced random forest', 'Balanced random forest']):\n",
    "    fpr, tpr, _ = roc_curve(test, pred)\n",
    "    roc_auc = auc(fpr, tpr)\n",
    "    plt.plot(fpr, tpr, label='{}: AUC = {}'.format(name, round(roc_auc, 3)))\n",
    "    plt.legend(loc='best')\n",
    "    plt.plot([0,1],[0,1], color='black', linestyle='--')\n",
    "\n",
    "plt.title('ROC curve')\n",
    "plt.ylabel('True Positive Rate (TPR)') \n",
    "plt.xlabel('False Positive Rate (FPR)') \n",
    "\n",
    "plt.show()"
   ]
  },
  {
   "cell_type": "markdown",
   "id": "b1507a11-69a4-479a-b307-09b32a413d5f",
   "metadata": {
    "tags": []
   },
   "source": [
    "## Imbalanced random forest sequential feature selection"
   ]
  },
  {
   "cell_type": "code",
   "execution_count": null,
   "id": "53a349f3-119f-46ec-8084-addab3c78a60",
   "metadata": {
    "tags": []
   },
   "outputs": [],
   "source": [
    "#rfc_sfs = SFS(\n",
    "#    rfc,\n",
    "#    k_features=(1, X_train.shape[1]),\n",
    "#    forward=True,\n",
    "#    scoring=\"accuracy\",\n",
    "#    cv=5,\n",
    "#    verbose=0,\n",
    "#    n_jobs=-1\n",
    "#)\n",
    "#rfc_sfs.fit(X_train, y_train)"
   ]
  },
  {
   "cell_type": "code",
   "execution_count": null,
   "id": "1dbab7ab-fa30-47f7-b6d5-a74663934ec3",
   "metadata": {
    "tags": []
   },
   "outputs": [],
   "source": [
    "#X_train_balanced_rfc = rfc_sfs.transform(X_train_balanced)\n",
    "#X_test_rfc = rfc_sfs.transform(X_test)"
   ]
  },
  {
   "cell_type": "code",
   "execution_count": null,
   "id": "38a54a1f-b56b-4f66-a76f-1394748b9390",
   "metadata": {
    "tags": []
   },
   "outputs": [],
   "source": [
    "#plot_sfs(rfc_sfs.get_metric_dict(), ylabel=\"Accuracy\", figsize=(5,3))\n",
    "#plt.title(\"rfc forward selection\")\n",
    "#plt.legend([\"Standard deviation\", \"Mean performance\"])"
   ]
  },
  {
   "cell_type": "code",
   "execution_count": null,
   "id": "9bd9df0b-739f-43d9-96a3-7c22c568bad3",
   "metadata": {
    "tags": []
   },
   "outputs": [],
   "source": [
    "#X_train_rfc_sfs = rfc_sfs.transform(X_train)\n",
    "#X_test_rfc_sfs = rfc_sfs.transform(X_test)"
   ]
  },
  {
   "cell_type": "code",
   "execution_count": null,
   "id": "1b6ae4f7-b201-49e1-b860-7d58d82a7961",
   "metadata": {
    "tags": []
   },
   "outputs": [],
   "source": [
    "#rfc.fit(X_train_rfc_sfs, y_train)"
   ]
  },
  {
   "cell_type": "code",
   "execution_count": null,
   "id": "148e745a-417a-4b46-9efa-d0eb97f10556",
   "metadata": {
    "tags": []
   },
   "outputs": [],
   "source": [
    "#y_pred_rfc = rfc.predict(X_test_rfc_sfs)\n",
    "#y_prob_rfc = rfc.predict_proba(X_test_rfc_sfs)\n",
    "#print (\"VALIDATION Accuracy is: \", (accuracy_score(y_test,y_pred_rfc)*100).round(2))"
   ]
  },
  {
   "cell_type": "markdown",
   "id": "1f671b49-331b-4a62-9912-3279f4e2636b",
   "metadata": {},
   "source": [
    "## Improving the imbalanced random forest"
   ]
  },
  {
   "cell_type": "code",
   "execution_count": null,
   "id": "6bdf8595-0998-43a8-8cb2-5b00f22c5286",
   "metadata": {
    "tags": []
   },
   "outputs": [],
   "source": [
    "# Create the param grid\n",
    "param_grid = {\n",
    "    'n_estimators': [100, 150, 200, 250],\n",
    "    'max_depth': [None],\n",
    "    'min_samples_split': [2, 3],\n",
    "    'min_samples_leaf': [1, 2],\n",
    "    'max_features': ['log2'],\n",
    "    'criterion': ['gini']\n",
    "}"
   ]
  },
  {
   "cell_type": "code",
   "execution_count": null,
   "id": "7cd77919-44b5-4552-9df6-e3f417664912",
   "metadata": {
    "tags": []
   },
   "outputs": [],
   "source": [
    "rfc_gs = GridSearchCV(estimator = rfc, param_grid = param_grid, cv = 5, verbose=1, n_jobs = -1, scoring = 'accuracy', refit=True)"
   ]
  },
  {
   "cell_type": "code",
   "execution_count": null,
   "id": "1de26364-9c1c-4689-83b2-5f2b4ebff09f",
   "metadata": {
    "tags": []
   },
   "outputs": [],
   "source": [
    "%%time\n",
    "rfc_gs.fit(X_train, y_train)"
   ]
  },
  {
   "cell_type": "code",
   "execution_count": null,
   "id": "08831e82-b43e-4820-a8a2-22d5050d3d7f",
   "metadata": {
    "tags": []
   },
   "outputs": [],
   "source": [
    "rfc_gs.best_params_"
   ]
  },
  {
   "cell_type": "code",
   "execution_count": null,
   "id": "d44a4aa2-6259-4dce-8dd7-4f664f074a9f",
   "metadata": {
    "tags": []
   },
   "outputs": [],
   "source": [
    "rfc_gs.best_score_"
   ]
  },
  {
   "cell_type": "code",
   "execution_count": null,
   "id": "3757d7c6-aab9-432a-972a-6756285cbf9b",
   "metadata": {
    "tags": []
   },
   "outputs": [],
   "source": [
    "y_pred_rfc_gs = rfc_gs.predict(X_test)\n",
    "y_prob_rfc_gs = rfc_gs.predict_proba(X_test)\n",
    "print (\"TEST Accuracy is: \", (accuracy_score(y_test,y_pred_rfc_gs)*100).round(2))"
   ]
  },
  {
   "cell_type": "markdown",
   "id": "5db4c4b5-be35-409e-8665-0d14bb920643",
   "metadata": {},
   "source": [
    "## Improving the balanced random forest  "
   ]
  },
  {
   "cell_type": "code",
   "execution_count": null,
   "id": "7e90e5db-5236-4376-92c5-b899467d736f",
   "metadata": {
    "tags": []
   },
   "outputs": [],
   "source": [
    "brfc = RandomForestClassifier(random_state = 1234).fit(X_train_balanced, y_train_balanced)"
   ]
  },
  {
   "cell_type": "code",
   "execution_count": null,
   "id": "eecb30f4-d76e-4870-b363-7220e30dd679",
   "metadata": {
    "tags": []
   },
   "outputs": [],
   "source": [
    "y_pred_brfc = brfc.predict(X_val)\n",
    "y_prob_brfc = brfc.predict_proba(X_val)\n",
    "print (\"VALIDATION Accuracy is: \", (accuracy_score(y_val,y_pred_brfc)*100).round(2))"
   ]
  },
  {
   "cell_type": "code",
   "execution_count": null,
   "id": "e6a234d3-af5e-4fb0-a2ef-daae6983bfbe",
   "metadata": {
    "tags": []
   },
   "outputs": [],
   "source": [
    "# Create the param grid\n",
    "param_grid = {\n",
    "    'n_estimators': [175, 180, 185, 190],\n",
    "    'max_depth': [None],\n",
    "    'min_samples_split': [2, 3],\n",
    "    'min_samples_leaf': [1, 2],\n",
    "    'max_features': ['log2'],\n",
    "    'criterion': ['gini']\n",
    "}"
   ]
  },
  {
   "cell_type": "code",
   "execution_count": null,
   "id": "18e77e46-279b-4e3f-a6cd-a07b36147d63",
   "metadata": {
    "tags": []
   },
   "outputs": [],
   "source": [
    "brfc_gs = GridSearchCV(estimator = brfc, param_grid = param_grid, cv = 5, verbose=1, n_jobs = -1, scoring = 'accuracy', refit=True)"
   ]
  },
  {
   "cell_type": "code",
   "execution_count": null,
   "id": "b6fba3ae-cc95-4432-897d-c51ffdc4f22b",
   "metadata": {
    "tags": []
   },
   "outputs": [],
   "source": [
    "%%time\n",
    "brfc_gs.fit(X_train, y_train)"
   ]
  },
  {
   "cell_type": "code",
   "execution_count": null,
   "id": "e5683c46-15c0-4888-85a9-fe8c2e9ab86b",
   "metadata": {
    "tags": []
   },
   "outputs": [],
   "source": [
    "brfc_gs.best_params_"
   ]
  },
  {
   "cell_type": "code",
   "execution_count": null,
   "id": "e68c11f3-dc27-49cc-9573-a6c27c40cd29",
   "metadata": {
    "tags": []
   },
   "outputs": [],
   "source": [
    "y_pred_brfc_gs = brfc_gs.predict(X_val)\n",
    "y_prob_brfc_gs = brfc_gs.predict_proba(X_val)\n",
    "print (\"VALIDATION Accuracy is: \", (accuracy_score(y_val,y_pred_brfc_gs)*100).round(2))"
   ]
  },
  {
   "cell_type": "code",
   "execution_count": null,
   "id": "a0c2e3ce-b606-4ab3-b59a-3c1f71f4bef5",
   "metadata": {
    "tags": []
   },
   "outputs": [],
   "source": [
    "y_pred_brfc_gs_test = brfc_gs.predict(X_test)\n",
    "y_prob_brfc_gs_test = brfc_gs.predict_proba(X_test)\n",
    "print (\"TEST Accuracy is: \", (accuracy_score(y_test,y_pred_brfc_gs_test)*100).round(2))"
   ]
  },
  {
   "cell_type": "markdown",
   "id": "b0690807-742e-4184-99f5-e0bac46e9f12",
   "metadata": {
    "jp-MarkdownHeadingCollapsed": true,
    "tags": []
   },
   "source": [
    "## Other models"
   ]
  },
  {
   "cell_type": "code",
   "execution_count": null,
   "id": "75137d35-7266-46c3-99fc-5b735c93633d",
   "metadata": {
    "tags": []
   },
   "outputs": [],
   "source": [
    "##Initial model testing\n",
    "#X = loans.drop(\"loan_status\", axis=1)\n",
    "#y = loans[\"loan_status\"]\n",
    "#\n",
    "## Scale features\n",
    "#scaler = StandardScaler()\n",
    "#X_scaled = scaler.fit_transform(X)\n",
    "#\n",
    "## Split training and testing\n",
    "#X_train, X_test, y_train, y_test = train_test_split(X_scaled, y, random_state=1234, test_size=0.3)\n",
    "#\n",
    "## Comparing accuracies\n",
    "#accs = {\"knn\":0, \"lr\":0, \"dtc\":0, \"rfc\":0, \"svc\":0, \"mlp\":0}"
   ]
  },
  {
   "cell_type": "code",
   "execution_count": null,
   "id": "ccdb4538-ae2c-4ec6-a6ab-e4e357f5d2ae",
   "metadata": {
    "tags": []
   },
   "outputs": [],
   "source": [
    "#knn = KNeighborsClassifier(n_neighbors=7)\n",
    "#accs[\"knn\"] = cross_val_score(knn, X_train, y_train).mean()"
   ]
  },
  {
   "cell_type": "code",
   "execution_count": null,
   "id": "e9bda0cf-dc36-4425-b6e4-58e55d99ef28",
   "metadata": {
    "tags": []
   },
   "outputs": [],
   "source": [
    "#lr = LogisticRegression(random_state=1234)\n",
    "#accs[\"lr\"] = cross_val_score(lr, X_train, y_train).mean()"
   ]
  },
  {
   "cell_type": "code",
   "execution_count": null,
   "id": "faae5997-cd95-4feb-9cb4-4394ef68d977",
   "metadata": {
    "tags": []
   },
   "outputs": [],
   "source": [
    "#dtc = DecisionTreeClassifier(random_state=1234, max_depth=4, min_samples_leaf=3)\n",
    "#accs[\"dtc\"] = cross_val_score(dtc, X_train, y_train).mean()"
   ]
  },
  {
   "cell_type": "code",
   "execution_count": null,
   "id": "441639b4-9349-44dd-a000-7ad70bffb7db",
   "metadata": {
    "tags": []
   },
   "outputs": [],
   "source": [
    "#rfc = RandomForestClassifier(random_state=1234)\n",
    "#accs[\"rfc\"] = cross_val_score(rfc, X_train, y_train).mean()"
   ]
  },
  {
   "cell_type": "code",
   "execution_count": null,
   "id": "24e14092-cee5-495b-9a58-152d348cc9bb",
   "metadata": {
    "tags": []
   },
   "outputs": [],
   "source": [
    "#svc = SVC(kernel=\"linear\")\n",
    "#accs[\"svc\"] = cross_val_score(svc, X_train, y_train).mean()"
   ]
  },
  {
   "cell_type": "code",
   "execution_count": null,
   "id": "86d58d2e-6862-4352-ac6d-6b58af2751c3",
   "metadata": {
    "tags": []
   },
   "outputs": [],
   "source": [
    "#mlp = MLPClassifier(activation='identity', solver='sgd', random_state=1234)\n",
    "#accs[\"mlp\"] = cross_val_score(mlp, X_train, y_train).mean()"
   ]
  },
  {
   "cell_type": "code",
   "execution_count": null,
   "id": "d28b17fc-7227-405e-aef5-b71f73f10cec",
   "metadata": {
    "tags": []
   },
   "outputs": [],
   "source": [
    "## Assuming you have a list of accuracy scores called accuracy_scores\n",
    "#accuracy_scores = accs.values()\n",
    "#\n",
    "## Create a list of corresponding x-axis values\n",
    "#x_values = range(len(accuracy_scores))\n",
    "#\n",
    "## Plot the bar graph\n",
    "#plt.bar(x_values, accuracy_scores)\n",
    "#\n",
    "## Add labels to the plot\n",
    "#plt.ylabel('Accuracy')\n",
    "#plt.title('Accuracy Scores of Different Models')\n",
    "#plt.xlabel('Models')\n",
    "#\n",
    "## Customize the x-axis tick labels if necessary\n",
    "#plt.xticks(x_values, accs.keys(), rotation=45)\n",
    "#\n",
    "## Display the plot\n",
    "#plt.show()"
   ]
  },
  {
   "cell_type": "code",
   "execution_count": null,
   "id": "590f4504-877d-4482-ad9f-56fb3cd32e51",
   "metadata": {
    "tags": []
   },
   "outputs": [],
   "source": [
    "#print(accuracy_scores)"
   ]
  },
  {
   "cell_type": "markdown",
   "id": "d85466b6-3f45-4b11-a02b-b90bb56ebd9b",
   "metadata": {
    "tags": []
   },
   "source": [
    "## XGBClassifier"
   ]
  },
  {
   "cell_type": "code",
   "execution_count": null,
   "id": "139d6073-059c-4928-8565-76bc846273a9",
   "metadata": {
    "tags": []
   },
   "outputs": [],
   "source": [
    "#xgbclass_defaults = XGBClassifier()"
   ]
  },
  {
   "cell_type": "code",
   "execution_count": null,
   "id": "0e432eba-18ae-45fd-b4d0-723878a95678",
   "metadata": {
    "tags": []
   },
   "outputs": [],
   "source": [
    "#cross_val_score(xgbclass_defaults, X_train_balanced, y_train_balanced).mean()"
   ]
  },
  {
   "cell_type": "code",
   "execution_count": null,
   "id": "fa9b526f-9637-410f-8963-e56ca1fa74e6",
   "metadata": {
    "tags": []
   },
   "outputs": [],
   "source": [
    "#params = {\n",
    "#    \"max_depth\" : optuna.distributions.IntDistribution(1, 20),\n",
    "#    \"learning_rate\" : optuna.distributions.FloatDistribution(1e-5, 1., log=True),\n",
    "#    \"gamma\" : optuna.distributions.FloatDistribution(1e-5, 1., log=True)\n",
    "#}\n",
    "#\n",
    "#xgbclass = OptunaSearchCV(\n",
    "#    XGBClassifier(n_jobs=-1),\n",
    "#    params,\n",
    "#    n_trials=30,\n",
    "#    scoring=\"accuracy\",\n",
    "#    cv=5,\n",
    "#    n_jobs=1,\n",
    "#    refit=True,\n",
    "#    random_state=1234\n",
    "#) "
   ]
  },
  {
   "cell_type": "code",
   "execution_count": null,
   "id": "e5a64647-a924-44de-b242-28a4981ffd2d",
   "metadata": {
    "tags": []
   },
   "outputs": [],
   "source": [
    "#xgbclass.fit(X_train, y_train)"
   ]
  },
  {
   "cell_type": "code",
   "execution_count": null,
   "id": "520dec2b-26d3-4d63-8fbc-70c78f5e31f3",
   "metadata": {
    "tags": []
   },
   "outputs": [],
   "source": [
    "#xgbclass.best_score_\n",
    "#0.6201475605452009\n",
    "#0.9825974913586887"
   ]
  },
  {
   "cell_type": "code",
   "execution_count": null,
   "id": "24788cc5-96d4-4c63-9150-b2d4c281d3eb",
   "metadata": {
    "tags": []
   },
   "outputs": [],
   "source": [
    "#y_pred_xgbclass = xgbclass.predict(X_test)\n",
    "#accuracy_score(y_test, y_pred_xgbclass)"
   ]
  },
  {
   "cell_type": "code",
   "execution_count": null,
   "id": "9539a198-89b3-46b1-ada2-ce8336916156",
   "metadata": {
    "tags": []
   },
   "outputs": [],
   "source": [
    "#conf_matrix = confusion_matrix(y_test,y_pred_xgbclass)"
   ]
  },
  {
   "cell_type": "code",
   "execution_count": null,
   "id": "eb49eedd-c935-4b77-b404-1534731e3900",
   "metadata": {
    "tags": []
   },
   "outputs": [],
   "source": [
    "#conf_matrix_normalized = conf_matrix/len(y_test)\n",
    "#conf_matrix_normalized = conf_matrix_normalized.round(4)"
   ]
  },
  {
   "cell_type": "code",
   "execution_count": null,
   "id": "4ecd174a-5330-4231-904d-5d819e969f5b",
   "metadata": {
    "tags": []
   },
   "outputs": [],
   "source": [
    "#fig, ax = plt.subplots(figsize=(7.5, 7.5))\n",
    "#ax.matshow(conf_matrix, cmap=plt.cm.Blues, alpha=0.3)\n",
    "#for i in range(conf_matrix.shape[0]):\n",
    "#    for j in range(conf_matrix.shape[1]):\n",
    "#        ax.text(x=j, y=i,s=conf_matrix[i, j], va='center', ha='center', size='xx-large')\n",
    "# \n",
    "#plt.xlabel('Predictions', fontsize=18)\n",
    "#plt.ylabel('Actuals', fontsize=18)\n",
    "#plt.title('Confusion Matrix', fontsize=18)\n",
    "#plt.show()"
   ]
  },
  {
   "cell_type": "code",
   "execution_count": null,
   "id": "21906270-631f-4204-828c-8cb15d433b74",
   "metadata": {
    "tags": []
   },
   "outputs": [],
   "source": [
    "#fig, ax = plt.subplots(figsize=(7.5, 7.5))\n",
    "#ax.matshow(conf_matrix_normalized, cmap=plt.cm.Blues, alpha=0.3)\n",
    "#for i in range(conf_matrix_normalized.shape[0]):\n",
    "#    for j in range(conf_matrix_normalized.shape[1]):\n",
    "#        ax.text(x=j, y=i,s=conf_matrix_normalized[i, j], va='center', ha='center', size='xx-large')\n",
    "# \n",
    "#plt.xlabel('Predictions', fontsize=18)\n",
    "#plt.ylabel('Actuals', fontsize=18)\n",
    "#plt.title('Confusion Matrix', fontsize=18)\n",
    "#plt.show()"
   ]
  }
 ],
 "metadata": {
  "kernelspec": {
   "display_name": "Python 3",
   "language": "python",
   "name": "python3"
  },
  "language_info": {
   "codemirror_mode": {
    "name": "ipython",
    "version": 3
   },
   "file_extension": ".py",
   "mimetype": "text/x-python",
   "name": "python",
   "nbconvert_exporter": "python",
   "pygments_lexer": "ipython3",
   "version": "3.10.8"
  }
 },
 "nbformat": 4,
 "nbformat_minor": 5
}
